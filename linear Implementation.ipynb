{
 "cells": [
  {
   "cell_type": "markdown",
   "id": "1ca31b00",
   "metadata": {},
   "source": [
    "# Practice of linear algebra concepts for AI/ML"
   ]
  },
  {
   "cell_type": "code",
   "execution_count": 1,
   "id": "18162290",
   "metadata": {},
   "outputs": [],
   "source": [
    "import numpy as np"
   ]
  },
  {
   "cell_type": "markdown",
   "id": "b1191a5e",
   "metadata": {},
   "source": [
    "# Vector 1"
   ]
  },
  {
   "cell_type": "code",
   "execution_count": 21,
   "id": "14455dcf",
   "metadata": {},
   "outputs": [
    {
     "name": "stdout",
     "output_type": "stream",
     "text": [
      "Horizontal Vector\n",
      "[1 2 3]\n",
      "Horizontal Vector\n",
      "[4 5 6]\n"
     ]
    }
   ],
   "source": [
    "lst1 = [1,2,3]\n",
    "lst2 = [4,5,6]\n",
    "\n",
    "vec1 = np.array(lst1)\n",
    "print(\"Horizontal Vector\")\n",
    "print(vec1)\n",
    "vec2 = np.array(lst2)\n",
    "print(\"Horizontal Vector\")\n",
    "print(vec2)"
   ]
  },
  {
   "cell_type": "markdown",
   "id": "38a1cf1f",
   "metadata": {},
   "source": [
    "# Basic Vector Operations"
   ]
  },
  {
   "cell_type": "code",
   "execution_count": 22,
   "id": "3a43044d",
   "metadata": {},
   "outputs": [
    {
     "name": "stdout",
     "output_type": "stream",
     "text": [
      "The vector addition: [5 7 9]\n",
      "subtraction of vector: [-3 -3 -3]\n",
      "Multiplication of Vector:   [ 4 10 18]\n",
      "Division of Vector:        [0.25 0.4  0.5 ]\n",
      "The scalar multiplication is: [2 4 6]\n"
     ]
    }
   ],
   "source": [
    "addition = vec1 + vec2\n",
    "print(\"The vector addition: \"       + str(addition))\n",
    "\n",
    "subtraction = vec1 - vec2\n",
    "print(\"subtraction of vector: \"     + str(subtraction))\n",
    "\n",
    "multiplication = vec1 * vec2\n",
    "print(\"Multiplication of Vector:   \" + str(multiplication))\n",
    "\n",
    "division = vec1 / vec2\n",
    "print(\"Division of Vector:        \" + str(division))\n",
    "\n",
    "scalar = 2\n",
    "scalar_mul = vec1 * scalar\n",
    "print(\"The scalar multiplication is: \"    + str(scalar_mul))"
   ]
  },
  {
   "cell_type": "code",
   "execution_count": 23,
   "id": "f5d3bb02",
   "metadata": {},
   "outputs": [
    {
     "name": "stdout",
     "output_type": "stream",
     "text": [
      "the dot_product       :32\n",
      "[-3  6 -3]\n"
     ]
    }
   ],
   "source": [
    "#Dot Product\n",
    "\n",
    "dot_pro = vec1.dot(vec2)\n",
    "print(\"the dot_product       :\" + str(dot_pro))\n",
    "\n",
    "#cross Product\n",
    "cross = np.cross(vec1, vec2)\n",
    "print(cross)\n"
   ]
  },
  {
   "cell_type": "code",
   "execution_count": 24,
   "id": "63655ca3",
   "metadata": {},
   "outputs": [
    {
     "name": "stdout",
     "output_type": "stream",
     "text": [
      "11.0\n"
     ]
    }
   ],
   "source": [
    "# l1 norm \n",
    "from numpy.linalg import norm \n",
    "arr = np.array([1,3,7])\n",
    "l1 = norm(arr, 1)\n",
    "print(l1)\n"
   ]
  },
  {
   "cell_type": "code",
   "execution_count": 25,
   "id": "e040dcf3",
   "metadata": {},
   "outputs": [
    {
     "name": "stdout",
     "output_type": "stream",
     "text": [
      "4.58257569495584\n"
     ]
    }
   ],
   "source": [
    "# l2 norm \n",
    "arr = np.array([1,2,4])\n",
    "l2 = norm(arr, 2)\n",
    "print(l2)"
   ]
  },
  {
   "cell_type": "code",
   "execution_count": 27,
   "id": "02cc6f62",
   "metadata": {},
   "outputs": [
    {
     "name": "stdout",
     "output_type": "stream",
     "text": [
      "7.0\n"
     ]
    }
   ],
   "source": [
    "# infinity norm\n",
    "\n",
    "from numpy import array, inf\n",
    "from numpy.linalg import norm \n",
    "\n",
    "v = array([1,3,6,7])\n",
    "vecmax = norm(v, inf)\n",
    "print(vecmax)"
   ]
  },
  {
   "cell_type": "markdown",
   "id": "c83f2f5c",
   "metadata": {},
   "source": [
    "# Vector Projection"
   ]
  },
  {
   "cell_type": "code",
   "execution_count": 28,
   "id": "c744e825",
   "metadata": {},
   "outputs": [
    {
     "name": "stdout",
     "output_type": "stream",
     "text": [
      "projection of u on v vector      : [3. 6. 9.]\n"
     ]
    }
   ],
   "source": [
    "v = np.array([1,2,3])\n",
    "u = np.array([4,7,8])\n",
    "\n",
    "# find the norms of the vector v\n",
    "v_norm = np.sqrt(sum(v**2))\n",
    "\n",
    "# find the dot product using dot product()\n",
    "\n",
    "projec_of_u_on_v = (np.dot(u,v)/v_norm**2)*v\n",
    "print(\"projection of u on v vector      :\" , projec_of_u_on_v)\n",
    "\n"
   ]
  },
  {
   "cell_type": "markdown",
   "id": "cf7264bd",
   "metadata": {},
   "source": [
    "# linear Combination of vector"
   ]
  },
  {
   "cell_type": "code",
   "execution_count": 29,
   "id": "ed26a2e4",
   "metadata": {},
   "outputs": [
    {
     "data": {
      "text/plain": [
       "array([7.8 , 6.5 , 3.67])"
      ]
     },
     "execution_count": 29,
     "metadata": {},
     "output_type": "execute_result"
    }
   ],
   "source": [
    "x = np.array([[0,0,1],\n",
    "             [0,1,0],\n",
    "             [1,0,0]])\n",
    "y = ([3.67, 6.5, 7.8])\n",
    "\n",
    "scalars = np.linalg.solve(x, y)\n",
    "scalars\n",
    "\n",
    "\n"
   ]
  },
  {
   "cell_type": "markdown",
   "id": "6e17184e",
   "metadata": {},
   "source": [
    "# Linear dependent and Independent vectors"
   ]
  },
  {
   "cell_type": "code",
   "execution_count": 31,
   "id": "112463bf",
   "metadata": {},
   "outputs": [
    {
     "name": "stdout",
     "output_type": "stream",
     "text": [
      "(0, 1)\n"
     ]
    }
   ],
   "source": [
    "import sympy\n",
    "\n",
    "matrix = np.array([[0,5,1],\n",
    "                 [0,10,0]\n",
    "                  ])\n",
    "_, indexes = sympy.Matrix(matrix).T.rref() # T for transpose\n",
    "print(indexes)"
   ]
  },
  {
   "cell_type": "markdown",
   "id": "5e044d39",
   "metadata": {},
   "source": [
    "# Check Indexes"
   ]
  },
  {
   "cell_type": "code",
   "execution_count": 34,
   "id": "5414a60b",
   "metadata": {},
   "outputs": [
    {
     "name": "stdout",
     "output_type": "stream",
     "text": [
      "[[ 0  5  1]\n",
      " [ 0 10  0]]\n"
     ]
    }
   ],
   "source": [
    "# find the indexes\n",
    "print(matrix[indexes, :])"
   ]
  },
  {
   "cell_type": "code",
   "execution_count": 36,
   "id": "3257a698",
   "metadata": {},
   "outputs": [
    {
     "name": "stdout",
     "output_type": "stream",
     "text": [
      "Linear independent\n"
     ]
    }
   ],
   "source": [
    "# check vector is linear dependent or not \n",
    "\n",
    "if len(indexes) == 2:\n",
    "    print(\"Linear independent\")\n",
    "\n",
    "else:\n",
    "    print(\"Linear dependent\")\n"
   ]
  },
  {
   "cell_type": "code",
   "execution_count": null,
   "id": "7ae41ccd",
   "metadata": {},
   "outputs": [],
   "source": []
  }
 ],
 "metadata": {
  "kernelspec": {
   "display_name": "Python 3 (ipykernel)",
   "language": "python",
   "name": "python3"
  },
  "language_info": {
   "codemirror_mode": {
    "name": "ipython",
    "version": 3
   },
   "file_extension": ".py",
   "mimetype": "text/x-python",
   "name": "python",
   "nbconvert_exporter": "python",
   "pygments_lexer": "ipython3",
   "version": "3.12.3"
  }
 },
 "nbformat": 4,
 "nbformat_minor": 5
}
